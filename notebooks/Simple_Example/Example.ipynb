{
 "cells": [
  {
   "cell_type": "markdown",
   "id": "17a7a87c-f9da-4a94-b617-a666c77b1acf",
   "metadata": {},
   "source": [
    "# Environment"
   ]
  },
  {
   "cell_type": "code",
   "execution_count": 1,
   "id": "c44edfa7-8645-4b7f-ba0c-ec1e4e160110",
   "metadata": {
    "tags": []
   },
   "outputs": [],
   "source": [
    "# LeafSim\n",
    "from leafsim import LeafSim, SUPPORTED_MODELS\n",
    "\n",
    "# Helper function for the toy example\n",
    "from utils import apply_formatting\n",
    "\n",
    "# Models currently supported by LeafSim\n",
    "# from catboost import CatBoostClassifier\n",
    "from sklearn.ensemble import RandomForestClassifier\n",
    "\n",
    "# Dataset used in the example\n",
    "from sklearn.datasets import load_iris\n",
    "\n",
    "# To perform train - test splits\n",
    "from sklearn.model_selection import train_test_split\n",
    "\n",
    "# Useful libraries\n",
    "import numpy as np\n",
    "import pandas as pd\n",
    "\n",
    "# Useful function\n",
    "from IPython.display import display"
   ]
  },
  {
   "cell_type": "code",
   "execution_count": 2,
   "id": "631e5d22-a523-441d-97ad-bd6b05685d36",
   "metadata": {
    "tags": []
   },
   "outputs": [],
   "source": [
    "# Make the example reproducible\n",
    "np.random.seed(42)"
   ]
  },
  {
   "cell_type": "markdown",
   "id": "2244797a-6844-4a85-b4ca-f63186fc41b2",
   "metadata": {},
   "source": [
    "# Data"
   ]
  },
  {
   "cell_type": "code",
   "execution_count": 3,
   "id": "13721e6c-ce79-4a3a-ae01-213ffe2bcead",
   "metadata": {
    "tags": []
   },
   "outputs": [],
   "source": [
    "data = load_iris(as_frame=True)"
   ]
  },
  {
   "cell_type": "code",
   "execution_count": 4,
   "id": "6515fed0-7b4a-402b-9d92-6174bb783c2e",
   "metadata": {
    "tags": []
   },
   "outputs": [],
   "source": [
    "# Features as pandas dataframe\n",
    "X = data[\"data\"]\n",
    "# Target as pandas series\n",
    "y = data[\"target\"]\n",
    "\n",
    "# Names of feature columns\n",
    "feature_cols = data[\"feature_names\"]\n",
    "# Name of target column\n",
    "target_col = y.name\n",
    "# Name of prediction column\n",
    "predicted_col = \"Predicted\" + target_col"
   ]
  },
  {
   "cell_type": "code",
   "execution_count": 5,
   "id": "54be6eb0-ca33-4990-9ba0-7bb359fd8964",
   "metadata": {
    "tags": []
   },
   "outputs": [],
   "source": [
    "# Split into train and test data\n",
    "X_train, X_test, y_train, y_test = train_test_split(\n",
    "    X, y, test_size=0.2, random_state=46\n",
    ")"
   ]
  },
  {
   "cell_type": "code",
   "execution_count": 6,
   "id": "3fcd1025-fb44-48f0-849b-ad8473fda5ef",
   "metadata": {
    "tags": []
   },
   "outputs": [
    {
     "data": {
      "text/plain": [
       "(120, 30)"
      ]
     },
     "execution_count": 6,
     "metadata": {},
     "output_type": "execute_result"
    }
   ],
   "source": [
    "X_train.shape[0], X_test.shape[0]"
   ]
  },
  {
   "cell_type": "markdown",
   "id": "54802646-0a19-4765-beb0-7dfe62aca268",
   "metadata": {},
   "source": [
    "# Model"
   ]
  },
  {
   "cell_type": "code",
   "execution_count": 7,
   "id": "eb9a0981-2818-4158-8f8f-09b2df5b4a4a",
   "metadata": {
    "tags": []
   },
   "outputs": [
    {
     "data": {
      "text/plain": [
       "['CatBoostClassifier',\n",
       " 'CatBoostRegressor',\n",
       " 'RandomForestClassifier',\n",
       " 'RandomForestRegressor']"
      ]
     },
     "execution_count": 7,
     "metadata": {},
     "output_type": "execute_result"
    }
   ],
   "source": [
    "# Currently supported models\n",
    "# For your own custom model\n",
    "# see end of notebook for an example\n",
    "SUPPORTED_MODELS"
   ]
  },
  {
   "cell_type": "code",
   "execution_count": 8,
   "id": "42d24f5b-c212-4e48-bbab-0e136974ffd0",
   "metadata": {
    "tags": []
   },
   "outputs": [
    {
     "data": {
      "text/html": [
       "<style>#sk-container-id-1 {color: black;background-color: white;}#sk-container-id-1 pre{padding: 0;}#sk-container-id-1 div.sk-toggleable {background-color: white;}#sk-container-id-1 label.sk-toggleable__label {cursor: pointer;display: block;width: 100%;margin-bottom: 0;padding: 0.3em;box-sizing: border-box;text-align: center;}#sk-container-id-1 label.sk-toggleable__label-arrow:before {content: \"▸\";float: left;margin-right: 0.25em;color: #696969;}#sk-container-id-1 label.sk-toggleable__label-arrow:hover:before {color: black;}#sk-container-id-1 div.sk-estimator:hover label.sk-toggleable__label-arrow:before {color: black;}#sk-container-id-1 div.sk-toggleable__content {max-height: 0;max-width: 0;overflow: hidden;text-align: left;background-color: #f0f8ff;}#sk-container-id-1 div.sk-toggleable__content pre {margin: 0.2em;color: black;border-radius: 0.25em;background-color: #f0f8ff;}#sk-container-id-1 input.sk-toggleable__control:checked~div.sk-toggleable__content {max-height: 200px;max-width: 100%;overflow: auto;}#sk-container-id-1 input.sk-toggleable__control:checked~label.sk-toggleable__label-arrow:before {content: \"▾\";}#sk-container-id-1 div.sk-estimator input.sk-toggleable__control:checked~label.sk-toggleable__label {background-color: #d4ebff;}#sk-container-id-1 div.sk-label input.sk-toggleable__control:checked~label.sk-toggleable__label {background-color: #d4ebff;}#sk-container-id-1 input.sk-hidden--visually {border: 0;clip: rect(1px 1px 1px 1px);clip: rect(1px, 1px, 1px, 1px);height: 1px;margin: -1px;overflow: hidden;padding: 0;position: absolute;width: 1px;}#sk-container-id-1 div.sk-estimator {font-family: monospace;background-color: #f0f8ff;border: 1px dotted black;border-radius: 0.25em;box-sizing: border-box;margin-bottom: 0.5em;}#sk-container-id-1 div.sk-estimator:hover {background-color: #d4ebff;}#sk-container-id-1 div.sk-parallel-item::after {content: \"\";width: 100%;border-bottom: 1px solid gray;flex-grow: 1;}#sk-container-id-1 div.sk-label:hover label.sk-toggleable__label {background-color: #d4ebff;}#sk-container-id-1 div.sk-serial::before {content: \"\";position: absolute;border-left: 1px solid gray;box-sizing: border-box;top: 0;bottom: 0;left: 50%;z-index: 0;}#sk-container-id-1 div.sk-serial {display: flex;flex-direction: column;align-items: center;background-color: white;padding-right: 0.2em;padding-left: 0.2em;position: relative;}#sk-container-id-1 div.sk-item {position: relative;z-index: 1;}#sk-container-id-1 div.sk-parallel {display: flex;align-items: stretch;justify-content: center;background-color: white;position: relative;}#sk-container-id-1 div.sk-item::before, #sk-container-id-1 div.sk-parallel-item::before {content: \"\";position: absolute;border-left: 1px solid gray;box-sizing: border-box;top: 0;bottom: 0;left: 50%;z-index: -1;}#sk-container-id-1 div.sk-parallel-item {display: flex;flex-direction: column;z-index: 1;position: relative;background-color: white;}#sk-container-id-1 div.sk-parallel-item:first-child::after {align-self: flex-end;width: 50%;}#sk-container-id-1 div.sk-parallel-item:last-child::after {align-self: flex-start;width: 50%;}#sk-container-id-1 div.sk-parallel-item:only-child::after {width: 0;}#sk-container-id-1 div.sk-dashed-wrapped {border: 1px dashed gray;margin: 0 0.4em 0.5em 0.4em;box-sizing: border-box;padding-bottom: 0.4em;background-color: white;}#sk-container-id-1 div.sk-label label {font-family: monospace;font-weight: bold;display: inline-block;line-height: 1.2em;}#sk-container-id-1 div.sk-label-container {text-align: center;}#sk-container-id-1 div.sk-container {/* jupyter's `normalize.less` sets `[hidden] { display: none; }` but bootstrap.min.css set `[hidden] { display: none !important; }` so we also need the `!important` here to be able to override the default hidden behavior on the sphinx rendered scikit-learn.org. See: https://github.com/scikit-learn/scikit-learn/issues/21755 */display: inline-block !important;position: relative;}#sk-container-id-1 div.sk-text-repr-fallback {display: none;}</style><div id=\"sk-container-id-1\" class=\"sk-top-container\"><div class=\"sk-text-repr-fallback\"><pre>RandomForestClassifier(min_samples_leaf=4, n_estimators=50, n_jobs=-1,\n",
       "                       random_state=46)</pre><b>In a Jupyter environment, please rerun this cell to show the HTML representation or trust the notebook. <br />On GitHub, the HTML representation is unable to render, please try loading this page with nbviewer.org.</b></div><div class=\"sk-container\" hidden><div class=\"sk-item\"><div class=\"sk-estimator sk-toggleable\"><input class=\"sk-toggleable__control sk-hidden--visually\" id=\"sk-estimator-id-1\" type=\"checkbox\" checked><label for=\"sk-estimator-id-1\" class=\"sk-toggleable__label sk-toggleable__label-arrow\">RandomForestClassifier</label><div class=\"sk-toggleable__content\"><pre>RandomForestClassifier(min_samples_leaf=4, n_estimators=50, n_jobs=-1,\n",
       "                       random_state=46)</pre></div></div></div></div></div>"
      ],
      "text/plain": [
       "RandomForestClassifier(min_samples_leaf=4, n_estimators=50, n_jobs=-1,\n",
       "                       random_state=46)"
      ]
     },
     "execution_count": 8,
     "metadata": {},
     "output_type": "execute_result"
    }
   ],
   "source": [
    "# Train model\n",
    "model = RandomForestClassifier(\n",
    "    random_state=46, n_jobs=-1, n_estimators=50, min_samples_leaf=4\n",
    ")\n",
    "model.fit(\n",
    "    X_train,\n",
    "    y_train,\n",
    ")"
   ]
  },
  {
   "cell_type": "code",
   "execution_count": 9,
   "id": "a0c89351-70b9-4251-8e6b-e503a671fe06",
   "metadata": {
    "tags": []
   },
   "outputs": [],
   "source": [
    "# Store as series (just like y_train and y_test)\n",
    "y_hat_train = pd.Series(model.predict(X_train))\n",
    "y_hat_test = pd.Series(model.predict(X_test))"
   ]
  },
  {
   "cell_type": "markdown",
   "id": "b09af6ba-b95d-48e1-b2d5-44d3e2e4c602",
   "metadata": {},
   "source": [
    "# Apply LeafSim"
   ]
  },
  {
   "cell_type": "code",
   "execution_count": 10,
   "id": "5c86dbb8-daca-4e80-a6ef-81eb28261c0f",
   "metadata": {
    "tags": []
   },
   "outputs": [],
   "source": [
    "leafsim_instance = LeafSim(model)"
   ]
  },
  {
   "cell_type": "code",
   "execution_count": 11,
   "id": "05442402-b81c-4a32-a909-51397c53dea3",
   "metadata": {
    "tags": []
   },
   "outputs": [],
   "source": [
    "top_n_ids, top_n_similarities = leafsim_instance.generate_explanations(\n",
    "    X_train[feature_cols], X_test[feature_cols]\n",
    ")"
   ]
  },
  {
   "cell_type": "code",
   "execution_count": 12,
   "id": "1b616f9f-821c-49ad-a948-daa6f32f73cb",
   "metadata": {
    "tags": []
   },
   "outputs": [
    {
     "data": {
      "text/plain": [
       "(30, 10)"
      ]
     },
     "execution_count": 12,
     "metadata": {},
     "output_type": "execute_result"
    }
   ],
   "source": [
    "# One row for each observation in the test set\n",
    "# By default, finding top 10 most similar observation\n",
    "# in the training set\n",
    "top_n_ids.shape"
   ]
  },
  {
   "cell_type": "code",
   "execution_count": 13,
   "id": "b526fe9a-2594-4cc9-af40-a34d11850eca",
   "metadata": {
    "tags": []
   },
   "outputs": [
    {
     "data": {
      "text/plain": [
       "(30, 10)"
      ]
     },
     "execution_count": 13,
     "metadata": {},
     "output_type": "execute_result"
    }
   ],
   "source": [
    "# One row for each observation in the test set\n",
    "# By default, the similarity scores of the top 10\n",
    "# most similar observations\n",
    "top_n_similarities.shape"
   ]
  },
  {
   "cell_type": "markdown",
   "id": "961dc0e7-f1aa-4388-a25b-03dcda317365",
   "metadata": {},
   "source": [
    "## Example where model performs poorly"
   ]
  },
  {
   "cell_type": "code",
   "execution_count": 14,
   "id": "fe8cae03-f98a-4733-a1d0-c333af6c16b6",
   "metadata": {
    "tags": []
   },
   "outputs": [],
   "source": [
    "def showcase(idx_to_explain: int):\n",
    "    \"\"\"\n",
    "    :param idx_to_explain:\n",
    "        Integer location of row in test feature dataframe and target series\n",
    "    \"\"\"\n",
    "    # Let's explain the prediction of this test observation\n",
    "    test_example = X_test.iloc[idx_to_explain].to_frame().T\n",
    "    # Adding the target information\n",
    "    test_example[predicted_col] = y_hat_test.iloc[idx_to_explain]\n",
    "    test_example[target_col] = y_test.iloc[idx_to_explain]\n",
    "    # Showcasing the observation\n",
    "    display(test_example)\n",
    "\n",
    "    # Show the main observations the model relies on\n",
    "    # when prediction our examples\n",
    "    top_n_explanations = top_n_ids[idx_to_explain]\n",
    "\n",
    "    similar_obs_example = X_train.iloc[top_n_explanations].copy()\n",
    "    similar_obs_example[f\"{predicted_col}\"] = y_hat_train.iloc[\n",
    "        top_n_explanations\n",
    "    ].values\n",
    "    similar_obs_example[f\"{target_col}\"] = y_train.iloc[top_n_explanations]\n",
    "    similar_obs_example[\"similarity\"] = top_n_similarities[idx_to_explain]\n",
    "\n",
    "    formatting = {\n",
    "        c: lambda x: f\"{x:,.1f}\"\n",
    "        for c in similar_obs_example.columns\n",
    "    }\n",
    "    display(\n",
    "        apply_formatting(\n",
    "            test_example,\n",
    "            similar_obs_example.drop(columns=[predicted_col]),\n",
    "            formatting\n",
    "        )\n",
    "    )"
   ]
  },
  {
   "cell_type": "code",
   "execution_count": 15,
   "id": "f80c4f79-3a5c-43d5-a70f-b1eeec5332ae",
   "metadata": {
    "tags": []
   },
   "outputs": [
    {
     "data": {
      "text/html": [
       "<div>\n",
       "<style scoped>\n",
       "    .dataframe tbody tr th:only-of-type {\n",
       "        vertical-align: middle;\n",
       "    }\n",
       "\n",
       "    .dataframe tbody tr th {\n",
       "        vertical-align: top;\n",
       "    }\n",
       "\n",
       "    .dataframe thead th {\n",
       "        text-align: right;\n",
       "    }\n",
       "</style>\n",
       "<table border=\"1\" class=\"dataframe\">\n",
       "  <thead>\n",
       "    <tr style=\"text-align: right;\">\n",
       "      <th></th>\n",
       "      <th>sepal length (cm)</th>\n",
       "      <th>sepal width (cm)</th>\n",
       "      <th>petal length (cm)</th>\n",
       "      <th>petal width (cm)</th>\n",
       "      <th>Predictedtarget</th>\n",
       "      <th>target</th>\n",
       "    </tr>\n",
       "  </thead>\n",
       "  <tbody>\n",
       "    <tr>\n",
       "      <th>106</th>\n",
       "      <td>4.9</td>\n",
       "      <td>2.5</td>\n",
       "      <td>4.5</td>\n",
       "      <td>1.7</td>\n",
       "      <td>1</td>\n",
       "      <td>2</td>\n",
       "    </tr>\n",
       "  </tbody>\n",
       "</table>\n",
       "</div>"
      ],
      "text/plain": [
       "     sepal length (cm)  sepal width (cm)  petal length (cm)  petal width (cm)  \\\n",
       "106                4.9               2.5                4.5               1.7   \n",
       "\n",
       "     Predictedtarget  target  \n",
       "106                1       2  "
      ]
     },
     "metadata": {},
     "output_type": "display_data"
    },
    {
     "data": {
      "text/html": [
       "<style type=\"text/css\">\n",
       "#T_31f42_row0_col0 {\n",
       "  background-color: #fee4d8;\n",
       "}\n",
       "#T_31f42_row0_col1, #T_31f42_row4_col1 {\n",
       "  background-color: #fdcab5;\n",
       "}\n",
       "#T_31f42_row0_col2, #T_31f42_row1_col0, #T_31f42_row5_col1, #T_31f42_row7_col1, #T_31f42_row9_col1 {\n",
       "  background-color: #fff5f0;\n",
       "}\n",
       "#T_31f42_row0_col3, #T_31f42_row6_col1 {\n",
       "  background-color: #fee1d4;\n",
       "}\n",
       "#T_31f42_row0_col5, #T_31f42_row1_col5, #T_31f42_row2_col5, #T_31f42_row3_col5, #T_31f42_row4_col5 {\n",
       "  background-color: #5da5d1;\n",
       "  color: #f1f1f1;\n",
       "}\n",
       "#T_31f42_row1_col1, #T_31f42_row5_col0, #T_31f42_row8_col1 {\n",
       "  background-color: #ffeee7;\n",
       "}\n",
       "#T_31f42_row1_col2, #T_31f42_row3_col2 {\n",
       "  background-color: #fcb69b;\n",
       "}\n",
       "#T_31f42_row1_col3, #T_31f42_row3_col3, #T_31f42_row4_col3 {\n",
       "  background-color: #fc8666;\n",
       "}\n",
       "#T_31f42_row2_col0 {\n",
       "  background-color: #ffebe2;\n",
       "}\n",
       "#T_31f42_row2_col1, #T_31f42_row3_col1 {\n",
       "  background-color: #fee8dd;\n",
       "}\n",
       "#T_31f42_row2_col2 {\n",
       "  background-color: #fedecf;\n",
       "}\n",
       "#T_31f42_row2_col3, #T_31f42_row6_col3, #T_31f42_row7_col3 {\n",
       "  background-color: #fdd1be;\n",
       "}\n",
       "#T_31f42_row3_col0, #T_31f42_row4_col0, #T_31f42_row8_col2 {\n",
       "  background-color: #fff2eb;\n",
       "}\n",
       "#T_31f42_row4_col2 {\n",
       "  background-color: #fcc4ad;\n",
       "}\n",
       "#T_31f42_row5_col2 {\n",
       "  background-color: #fca082;\n",
       "}\n",
       "#T_31f42_row5_col3 {\n",
       "  background-color: #fc997a;\n",
       "}\n",
       "#T_31f42_row5_col5 {\n",
       "  background-color: #64a9d3;\n",
       "  color: #f1f1f1;\n",
       "}\n",
       "#T_31f42_row6_col0 {\n",
       "  background-color: #fedbcc;\n",
       "}\n",
       "#T_31f42_row6_col2 {\n",
       "  background-color: #fee7db;\n",
       "}\n",
       "#T_31f42_row6_col5, #T_31f42_row7_col5 {\n",
       "  background-color: #74b3d8;\n",
       "  color: #000000;\n",
       "}\n",
       "#T_31f42_row7_col0 {\n",
       "  background-color: #fdd5c4;\n",
       "}\n",
       "#T_31f42_row7_col2, #T_31f42_row9_col2 {\n",
       "  background-color: #fee3d6;\n",
       "}\n",
       "#T_31f42_row8_col0, #T_31f42_row9_col0 {\n",
       "  background-color: #fee1d3;\n",
       "}\n",
       "#T_31f42_row8_col3 {\n",
       "  background-color: #fcad90;\n",
       "}\n",
       "#T_31f42_row8_col5 {\n",
       "  background-color: #7cb7da;\n",
       "  color: #000000;\n",
       "}\n",
       "#T_31f42_row9_col3 {\n",
       "  background-color: #fcbfa7;\n",
       "}\n",
       "#T_31f42_row9_col5 {\n",
       "  background-color: #84bcdb;\n",
       "  color: #000000;\n",
       "}\n",
       "</style>\n",
       "<table id=\"T_31f42\">\n",
       "  <thead>\n",
       "    <tr>\n",
       "      <th class=\"blank level0\" >&nbsp;</th>\n",
       "      <th id=\"T_31f42_level0_col0\" class=\"col_heading level0 col0\" >sepal length (cm)</th>\n",
       "      <th id=\"T_31f42_level0_col1\" class=\"col_heading level0 col1\" >sepal width (cm)</th>\n",
       "      <th id=\"T_31f42_level0_col2\" class=\"col_heading level0 col2\" >petal length (cm)</th>\n",
       "      <th id=\"T_31f42_level0_col3\" class=\"col_heading level0 col3\" >petal width (cm)</th>\n",
       "      <th id=\"T_31f42_level0_col4\" class=\"col_heading level0 col4\" >target</th>\n",
       "      <th id=\"T_31f42_level0_col5\" class=\"col_heading level0 col5\" >similarity</th>\n",
       "    </tr>\n",
       "  </thead>\n",
       "  <tbody>\n",
       "    <tr>\n",
       "      <th id=\"T_31f42_level0_row0\" class=\"row_heading level0 row0\" >84</th>\n",
       "      <td id=\"T_31f42_row0_col0\" class=\"data row0 col0\" >5.4</td>\n",
       "      <td id=\"T_31f42_row0_col1\" class=\"data row0 col1\" >3.0</td>\n",
       "      <td id=\"T_31f42_row0_col2\" class=\"data row0 col2\" >4.5</td>\n",
       "      <td id=\"T_31f42_row0_col3\" class=\"data row0 col3\" >1.5</td>\n",
       "      <td id=\"T_31f42_row0_col4\" class=\"data row0 col4\" >1.0</td>\n",
       "      <td id=\"T_31f42_row0_col5\" class=\"data row0 col5\" >0.5</td>\n",
       "    </tr>\n",
       "    <tr>\n",
       "      <th id=\"T_31f42_level0_row1\" class=\"row_heading level0 row1\" >57</th>\n",
       "      <td id=\"T_31f42_row1_col0\" class=\"data row1 col0\" >4.9</td>\n",
       "      <td id=\"T_31f42_row1_col1\" class=\"data row1 col1\" >2.4</td>\n",
       "      <td id=\"T_31f42_row1_col2\" class=\"data row1 col2\" >3.3</td>\n",
       "      <td id=\"T_31f42_row1_col3\" class=\"data row1 col3\" >1.0</td>\n",
       "      <td id=\"T_31f42_row1_col4\" class=\"data row1 col4\" >1.0</td>\n",
       "      <td id=\"T_31f42_row1_col5\" class=\"data row1 col5\" >0.5</td>\n",
       "    </tr>\n",
       "    <tr>\n",
       "      <th id=\"T_31f42_level0_row2\" class=\"row_heading level0 row2\" >59</th>\n",
       "      <td id=\"T_31f42_row2_col0\" class=\"data row2 col0\" >5.2</td>\n",
       "      <td id=\"T_31f42_row2_col1\" class=\"data row2 col1\" >2.7</td>\n",
       "      <td id=\"T_31f42_row2_col2\" class=\"data row2 col2\" >3.9</td>\n",
       "      <td id=\"T_31f42_row2_col3\" class=\"data row2 col3\" >1.4</td>\n",
       "      <td id=\"T_31f42_row2_col4\" class=\"data row2 col4\" >1.0</td>\n",
       "      <td id=\"T_31f42_row2_col5\" class=\"data row2 col5\" >0.5</td>\n",
       "    </tr>\n",
       "    <tr>\n",
       "      <th id=\"T_31f42_level0_row3\" class=\"row_heading level0 row3\" >93</th>\n",
       "      <td id=\"T_31f42_row3_col0\" class=\"data row3 col0\" >5.0</td>\n",
       "      <td id=\"T_31f42_row3_col1\" class=\"data row3 col1\" >2.3</td>\n",
       "      <td id=\"T_31f42_row3_col2\" class=\"data row3 col2\" >3.3</td>\n",
       "      <td id=\"T_31f42_row3_col3\" class=\"data row3 col3\" >1.0</td>\n",
       "      <td id=\"T_31f42_row3_col4\" class=\"data row3 col4\" >1.0</td>\n",
       "      <td id=\"T_31f42_row3_col5\" class=\"data row3 col5\" >0.5</td>\n",
       "    </tr>\n",
       "    <tr>\n",
       "      <th id=\"T_31f42_level0_row4\" class=\"row_heading level0 row4\" >60</th>\n",
       "      <td id=\"T_31f42_row4_col0\" class=\"data row4 col0\" >5.0</td>\n",
       "      <td id=\"T_31f42_row4_col1\" class=\"data row4 col1\" >2.0</td>\n",
       "      <td id=\"T_31f42_row4_col2\" class=\"data row4 col2\" >3.5</td>\n",
       "      <td id=\"T_31f42_row4_col3\" class=\"data row4 col3\" >1.0</td>\n",
       "      <td id=\"T_31f42_row4_col4\" class=\"data row4 col4\" >1.0</td>\n",
       "      <td id=\"T_31f42_row4_col5\" class=\"data row4 col5\" >0.5</td>\n",
       "    </tr>\n",
       "    <tr>\n",
       "      <th id=\"T_31f42_level0_row5\" class=\"row_heading level0 row5\" >98</th>\n",
       "      <td id=\"T_31f42_row5_col0\" class=\"data row5 col0\" >5.1</td>\n",
       "      <td id=\"T_31f42_row5_col1\" class=\"data row5 col1\" >2.5</td>\n",
       "      <td id=\"T_31f42_row5_col2\" class=\"data row5 col2\" >3.0</td>\n",
       "      <td id=\"T_31f42_row5_col3\" class=\"data row5 col3\" >1.1</td>\n",
       "      <td id=\"T_31f42_row5_col4\" class=\"data row5 col4\" >1.0</td>\n",
       "      <td id=\"T_31f42_row5_col5\" class=\"data row5 col5\" >0.5</td>\n",
       "    </tr>\n",
       "    <tr>\n",
       "      <th id=\"T_31f42_level0_row6\" class=\"row_heading level0 row6\" >121</th>\n",
       "      <td id=\"T_31f42_row6_col0\" class=\"data row6 col0\" >5.6</td>\n",
       "      <td id=\"T_31f42_row6_col1\" class=\"data row6 col1\" >2.8</td>\n",
       "      <td id=\"T_31f42_row6_col2\" class=\"data row6 col2\" >4.9</td>\n",
       "      <td id=\"T_31f42_row6_col3\" class=\"data row6 col3\" >2.0</td>\n",
       "      <td id=\"T_31f42_row6_col4\" class=\"data row6 col4\" >2.0</td>\n",
       "      <td id=\"T_31f42_row6_col5\" class=\"data row6 col5\" >0.5</td>\n",
       "    </tr>\n",
       "    <tr>\n",
       "      <th id=\"T_31f42_level0_row7\" class=\"row_heading level0 row7\" >113</th>\n",
       "      <td id=\"T_31f42_row7_col0\" class=\"data row7 col0\" >5.7</td>\n",
       "      <td id=\"T_31f42_row7_col1\" class=\"data row7 col1\" >2.5</td>\n",
       "      <td id=\"T_31f42_row7_col2\" class=\"data row7 col2\" >5.0</td>\n",
       "      <td id=\"T_31f42_row7_col3\" class=\"data row7 col3\" >2.0</td>\n",
       "      <td id=\"T_31f42_row7_col4\" class=\"data row7 col4\" >2.0</td>\n",
       "      <td id=\"T_31f42_row7_col5\" class=\"data row7 col5\" >0.5</td>\n",
       "    </tr>\n",
       "    <tr>\n",
       "      <th id=\"T_31f42_level0_row8\" class=\"row_heading level0 row8\" >90</th>\n",
       "      <td id=\"T_31f42_row8_col0\" class=\"data row8 col0\" >5.5</td>\n",
       "      <td id=\"T_31f42_row8_col1\" class=\"data row8 col1\" >2.6</td>\n",
       "      <td id=\"T_31f42_row8_col2\" class=\"data row8 col2\" >4.4</td>\n",
       "      <td id=\"T_31f42_row8_col3\" class=\"data row8 col3\" >1.2</td>\n",
       "      <td id=\"T_31f42_row8_col4\" class=\"data row8 col4\" >1.0</td>\n",
       "      <td id=\"T_31f42_row8_col5\" class=\"data row8 col5\" >0.5</td>\n",
       "    </tr>\n",
       "    <tr>\n",
       "      <th id=\"T_31f42_level0_row9\" class=\"row_heading level0 row9\" >89</th>\n",
       "      <td id=\"T_31f42_row9_col0\" class=\"data row9 col0\" >5.5</td>\n",
       "      <td id=\"T_31f42_row9_col1\" class=\"data row9 col1\" >2.5</td>\n",
       "      <td id=\"T_31f42_row9_col2\" class=\"data row9 col2\" >4.0</td>\n",
       "      <td id=\"T_31f42_row9_col3\" class=\"data row9 col3\" >1.3</td>\n",
       "      <td id=\"T_31f42_row9_col4\" class=\"data row9 col4\" >1.0</td>\n",
       "      <td id=\"T_31f42_row9_col5\" class=\"data row9 col5\" >0.4</td>\n",
       "    </tr>\n",
       "  </tbody>\n",
       "</table>\n"
      ],
      "text/plain": [
       "<pandas.io.formats.style.Styler at 0x168333210>"
      ]
     },
     "metadata": {},
     "output_type": "display_data"
    }
   ],
   "source": [
    "# Class for which the model performs poorly\n",
    "idx_to_explain = np.argmax(y_test != y_hat_test.values)\n",
    "showcase(idx_to_explain)"
   ]
  },
  {
   "cell_type": "markdown",
   "id": "5bd76bfe-d677-422f-bcd5-328c4929112e",
   "metadata": {},
   "source": [
    "## Example where model performs well"
   ]
  },
  {
   "cell_type": "code",
   "execution_count": 16,
   "id": "f19e8009-d379-4a3d-bb5a-dfda99ee8e93",
   "metadata": {
    "tags": []
   },
   "outputs": [
    {
     "data": {
      "text/html": [
       "<div>\n",
       "<style scoped>\n",
       "    .dataframe tbody tr th:only-of-type {\n",
       "        vertical-align: middle;\n",
       "    }\n",
       "\n",
       "    .dataframe tbody tr th {\n",
       "        vertical-align: top;\n",
       "    }\n",
       "\n",
       "    .dataframe thead th {\n",
       "        text-align: right;\n",
       "    }\n",
       "</style>\n",
       "<table border=\"1\" class=\"dataframe\">\n",
       "  <thead>\n",
       "    <tr style=\"text-align: right;\">\n",
       "      <th></th>\n",
       "      <th>sepal length (cm)</th>\n",
       "      <th>sepal width (cm)</th>\n",
       "      <th>petal length (cm)</th>\n",
       "      <th>petal width (cm)</th>\n",
       "      <th>Predictedtarget</th>\n",
       "      <th>target</th>\n",
       "    </tr>\n",
       "  </thead>\n",
       "  <tbody>\n",
       "    <tr>\n",
       "      <th>4</th>\n",
       "      <td>5.0</td>\n",
       "      <td>3.6</td>\n",
       "      <td>1.4</td>\n",
       "      <td>0.2</td>\n",
       "      <td>0</td>\n",
       "      <td>0</td>\n",
       "    </tr>\n",
       "  </tbody>\n",
       "</table>\n",
       "</div>"
      ],
      "text/plain": [
       "   sepal length (cm)  sepal width (cm)  petal length (cm)  petal width (cm)  \\\n",
       "4                5.0               3.6                1.4               0.2   \n",
       "\n",
       "   Predictedtarget  target  \n",
       "4                0       0  "
      ]
     },
     "metadata": {},
     "output_type": "display_data"
    },
    {
     "data": {
      "text/html": [
       "<style type=\"text/css\">\n",
       "#T_57040_row0_col0, #T_57040_row4_col0 {\n",
       "  background-color: #fee8dd;\n",
       "}\n",
       "#T_57040_row0_col1, #T_57040_row1_col1 {\n",
       "  background-color: #fedccd;\n",
       "}\n",
       "#T_57040_row0_col2, #T_57040_row5_col2, #T_57040_row7_col2, #T_57040_row8_col2 {\n",
       "  background-color: #fee9df;\n",
       "}\n",
       "#T_57040_row0_col3, #T_57040_row1_col3, #T_57040_row2_col2, #T_57040_row3_col3, #T_57040_row4_col1, #T_57040_row4_col3, #T_57040_row5_col0, #T_57040_row6_col3, #T_57040_row7_col3, #T_57040_row8_col0, #T_57040_row8_col3, #T_57040_row9_col2, #T_57040_row9_col3 {\n",
       "  background-color: #fff5f0;\n",
       "}\n",
       "#T_57040_row0_col5, #T_57040_row1_col5, #T_57040_row2_col5, #T_57040_row3_col5, #T_57040_row4_col5, #T_57040_row5_col5, #T_57040_row6_col5, #T_57040_row7_col5, #T_57040_row8_col5, #T_57040_row9_col5 {\n",
       "  background-color: #08306b;\n",
       "  color: #f1f1f1;\n",
       "}\n",
       "#T_57040_row1_col0 {\n",
       "  background-color: #ffeee7;\n",
       "}\n",
       "#T_57040_row1_col2, #T_57040_row3_col2, #T_57040_row6_col2 {\n",
       "  background-color: #fedbcc;\n",
       "}\n",
       "#T_57040_row2_col0, #T_57040_row6_col0, #T_57040_row9_col0 {\n",
       "  background-color: #fff2eb;\n",
       "}\n",
       "#T_57040_row2_col1, #T_57040_row5_col1, #T_57040_row9_col1 {\n",
       "  background-color: #fff0e9;\n",
       "}\n",
       "#T_57040_row2_col3, #T_57040_row5_col3 {\n",
       "  background-color: #fb6b4b;\n",
       "}\n",
       "#T_57040_row3_col0, #T_57040_row7_col0 {\n",
       "  background-color: #ffebe2;\n",
       "}\n",
       "#T_57040_row3_col1, #T_57040_row7_col1 {\n",
       "  background-color: #fee3d6;\n",
       "}\n",
       "#T_57040_row4_col2 {\n",
       "  background-color: #fcaf93;\n",
       "}\n",
       "#T_57040_row6_col1, #T_57040_row8_col1 {\n",
       "  background-color: #ffece3;\n",
       "}\n",
       "</style>\n",
       "<table id=\"T_57040\">\n",
       "  <thead>\n",
       "    <tr>\n",
       "      <th class=\"blank level0\" >&nbsp;</th>\n",
       "      <th id=\"T_57040_level0_col0\" class=\"col_heading level0 col0\" >sepal length (cm)</th>\n",
       "      <th id=\"T_57040_level0_col1\" class=\"col_heading level0 col1\" >sepal width (cm)</th>\n",
       "      <th id=\"T_57040_level0_col2\" class=\"col_heading level0 col2\" >petal length (cm)</th>\n",
       "      <th id=\"T_57040_level0_col3\" class=\"col_heading level0 col3\" >petal width (cm)</th>\n",
       "      <th id=\"T_57040_level0_col4\" class=\"col_heading level0 col4\" >target</th>\n",
       "      <th id=\"T_57040_level0_col5\" class=\"col_heading level0 col5\" >similarity</th>\n",
       "    </tr>\n",
       "  </thead>\n",
       "  <tbody>\n",
       "    <tr>\n",
       "      <th id=\"T_57040_level0_row0\" class=\"row_heading level0 row0\" >3</th>\n",
       "      <td id=\"T_57040_row0_col0\" class=\"data row0 col0\" >4.6</td>\n",
       "      <td id=\"T_57040_row0_col1\" class=\"data row0 col1\" >3.1</td>\n",
       "      <td id=\"T_57040_row0_col2\" class=\"data row0 col2\" >1.5</td>\n",
       "      <td id=\"T_57040_row0_col3\" class=\"data row0 col3\" >0.2</td>\n",
       "      <td id=\"T_57040_row0_col4\" class=\"data row0 col4\" >0.0</td>\n",
       "      <td id=\"T_57040_row0_col5\" class=\"data row0 col5\" >1.0</td>\n",
       "    </tr>\n",
       "    <tr>\n",
       "      <th id=\"T_57040_level0_row1\" class=\"row_heading level0 row1\" >30</th>\n",
       "      <td id=\"T_57040_row1_col0\" class=\"data row1 col0\" >4.8</td>\n",
       "      <td id=\"T_57040_row1_col1\" class=\"data row1 col1\" >3.1</td>\n",
       "      <td id=\"T_57040_row1_col2\" class=\"data row1 col2\" >1.6</td>\n",
       "      <td id=\"T_57040_row1_col3\" class=\"data row1 col3\" >0.2</td>\n",
       "      <td id=\"T_57040_row1_col4\" class=\"data row1 col4\" >0.0</td>\n",
       "      <td id=\"T_57040_row1_col5\" class=\"data row1 col5\" >1.0</td>\n",
       "    </tr>\n",
       "    <tr>\n",
       "      <th id=\"T_57040_level0_row2\" class=\"row_heading level0 row2\" >17</th>\n",
       "      <td id=\"T_57040_row2_col0\" class=\"data row2 col0\" >5.1</td>\n",
       "      <td id=\"T_57040_row2_col1\" class=\"data row2 col1\" >3.5</td>\n",
       "      <td id=\"T_57040_row2_col2\" class=\"data row2 col2\" >1.4</td>\n",
       "      <td id=\"T_57040_row2_col3\" class=\"data row2 col3\" >0.3</td>\n",
       "      <td id=\"T_57040_row2_col4\" class=\"data row2 col4\" >0.0</td>\n",
       "      <td id=\"T_57040_row2_col5\" class=\"data row2 col5\" >1.0</td>\n",
       "    </tr>\n",
       "    <tr>\n",
       "      <th id=\"T_57040_level0_row3\" class=\"row_heading level0 row3\" >29</th>\n",
       "      <td id=\"T_57040_row3_col0\" class=\"data row3 col0\" >4.7</td>\n",
       "      <td id=\"T_57040_row3_col1\" class=\"data row3 col1\" >3.2</td>\n",
       "      <td id=\"T_57040_row3_col2\" class=\"data row3 col2\" >1.6</td>\n",
       "      <td id=\"T_57040_row3_col3\" class=\"data row3 col3\" >0.2</td>\n",
       "      <td id=\"T_57040_row3_col4\" class=\"data row3 col4\" >0.0</td>\n",
       "      <td id=\"T_57040_row3_col5\" class=\"data row3 col5\" >1.0</td>\n",
       "    </tr>\n",
       "    <tr>\n",
       "      <th id=\"T_57040_level0_row4\" class=\"row_heading level0 row4\" >22</th>\n",
       "      <td id=\"T_57040_row4_col0\" class=\"data row4 col0\" >4.6</td>\n",
       "      <td id=\"T_57040_row4_col1\" class=\"data row4 col1\" >3.6</td>\n",
       "      <td id=\"T_57040_row4_col2\" class=\"data row4 col2\" >1.0</td>\n",
       "      <td id=\"T_57040_row4_col3\" class=\"data row4 col3\" >0.2</td>\n",
       "      <td id=\"T_57040_row4_col4\" class=\"data row4 col4\" >0.0</td>\n",
       "      <td id=\"T_57040_row4_col5\" class=\"data row4 col5\" >1.0</td>\n",
       "    </tr>\n",
       "    <tr>\n",
       "      <th id=\"T_57040_level0_row5\" class=\"row_heading level0 row5\" >40</th>\n",
       "      <td id=\"T_57040_row5_col0\" class=\"data row5 col0\" >5.0</td>\n",
       "      <td id=\"T_57040_row5_col1\" class=\"data row5 col1\" >3.5</td>\n",
       "      <td id=\"T_57040_row5_col2\" class=\"data row5 col2\" >1.3</td>\n",
       "      <td id=\"T_57040_row5_col3\" class=\"data row5 col3\" >0.3</td>\n",
       "      <td id=\"T_57040_row5_col4\" class=\"data row5 col4\" >0.0</td>\n",
       "      <td id=\"T_57040_row5_col5\" class=\"data row5 col5\" >1.0</td>\n",
       "    </tr>\n",
       "    <tr>\n",
       "      <th id=\"T_57040_level0_row6\" class=\"row_heading level0 row6\" >46</th>\n",
       "      <td id=\"T_57040_row6_col0\" class=\"data row6 col0\" >5.1</td>\n",
       "      <td id=\"T_57040_row6_col1\" class=\"data row6 col1\" >3.8</td>\n",
       "      <td id=\"T_57040_row6_col2\" class=\"data row6 col2\" >1.6</td>\n",
       "      <td id=\"T_57040_row6_col3\" class=\"data row6 col3\" >0.2</td>\n",
       "      <td id=\"T_57040_row6_col4\" class=\"data row6 col4\" >0.0</td>\n",
       "      <td id=\"T_57040_row6_col5\" class=\"data row6 col5\" >1.0</td>\n",
       "    </tr>\n",
       "    <tr>\n",
       "      <th id=\"T_57040_level0_row7\" class=\"row_heading level0 row7\" >2</th>\n",
       "      <td id=\"T_57040_row7_col0\" class=\"data row7 col0\" >4.7</td>\n",
       "      <td id=\"T_57040_row7_col1\" class=\"data row7 col1\" >3.2</td>\n",
       "      <td id=\"T_57040_row7_col2\" class=\"data row7 col2\" >1.3</td>\n",
       "      <td id=\"T_57040_row7_col3\" class=\"data row7 col3\" >0.2</td>\n",
       "      <td id=\"T_57040_row7_col4\" class=\"data row7 col4\" >0.0</td>\n",
       "      <td id=\"T_57040_row7_col5\" class=\"data row7 col5\" >1.0</td>\n",
       "    </tr>\n",
       "    <tr>\n",
       "      <th id=\"T_57040_level0_row8\" class=\"row_heading level0 row8\" >7</th>\n",
       "      <td id=\"T_57040_row8_col0\" class=\"data row8 col0\" >5.0</td>\n",
       "      <td id=\"T_57040_row8_col1\" class=\"data row8 col1\" >3.4</td>\n",
       "      <td id=\"T_57040_row8_col2\" class=\"data row8 col2\" >1.5</td>\n",
       "      <td id=\"T_57040_row8_col3\" class=\"data row8 col3\" >0.2</td>\n",
       "      <td id=\"T_57040_row8_col4\" class=\"data row8 col4\" >0.0</td>\n",
       "      <td id=\"T_57040_row8_col5\" class=\"data row8 col5\" >1.0</td>\n",
       "    </tr>\n",
       "    <tr>\n",
       "      <th id=\"T_57040_level0_row9\" class=\"row_heading level0 row9\" >0</th>\n",
       "      <td id=\"T_57040_row9_col0\" class=\"data row9 col0\" >5.1</td>\n",
       "      <td id=\"T_57040_row9_col1\" class=\"data row9 col1\" >3.5</td>\n",
       "      <td id=\"T_57040_row9_col2\" class=\"data row9 col2\" >1.4</td>\n",
       "      <td id=\"T_57040_row9_col3\" class=\"data row9 col3\" >0.2</td>\n",
       "      <td id=\"T_57040_row9_col4\" class=\"data row9 col4\" >0.0</td>\n",
       "      <td id=\"T_57040_row9_col5\" class=\"data row9 col5\" >1.0</td>\n",
       "    </tr>\n",
       "  </tbody>\n",
       "</table>\n"
      ],
      "text/plain": [
       "<pandas.io.formats.style.Styler at 0x168310290>"
      ]
     },
     "metadata": {},
     "output_type": "display_data"
    }
   ],
   "source": [
    "# Class for which the model performs well\n",
    "idx_to_explain = np.argmax(y_test == y_hat_test.values)\n",
    "showcase(idx_to_explain)"
   ]
  },
  {
   "cell_type": "markdown",
   "id": "e100b419-6a87-4ccd-8455-3cfea0c79d44",
   "metadata": {},
   "source": [
    "## Custom model\n",
    "\n",
    "Currently, LeafSim is not by default supporting XGBoost. To use it and any other ensemble model, one can modify the initialising of the LeafSim instance:"
   ]
  },
  {
   "cell_type": "code",
   "execution_count": 17,
   "id": "80a198ca-010e-4c89-bbab-1b011747d286",
   "metadata": {
    "tags": []
   },
   "outputs": [],
   "source": [
    "from xgboost import XGBRegressor"
   ]
  },
  {
   "cell_type": "code",
   "execution_count": 18,
   "id": "8c90fe66-267c-4836-a2b4-0c67fd63c614",
   "metadata": {
    "tags": []
   },
   "outputs": [],
   "source": [
    "# Create a model wrapper instance\n",
    "# The custom model really can be any type of instance\n",
    "# that makes sense for LeafSim\n",
    "# All that is requires is for it to have the attribute:\n",
    "#   - get_leaf_indices (see next cell)\n",
    "CustomModel = XGBRegressor"
   ]
  },
  {
   "cell_type": "code",
   "execution_count": 19,
   "id": "d168eb9d-b8bc-47dc-b2cd-cfd17f0b2d73",
   "metadata": {
    "tags": []
   },
   "outputs": [],
   "source": [
    "# Set the attribute \"get_leaf_indices\" that every custom model\n",
    "# to be passed to LeafSim needs to have.\n",
    "# This function takes in X (n_data, n_features)\n",
    "# and provides a matrix of (n_data, n_predictions)\n",
    "# where predictors are the individual predictors in the ensemble (trees)\n",
    "# and the values are the leaf indices.\n",
    "setattr(CustomModel, 'get_leaf_indices', XGBRegressor.apply)"
   ]
  },
  {
   "cell_type": "code",
   "execution_count": 20,
   "id": "ffaad29b-b4a1-4e56-9481-8af1d3ea4402",
   "metadata": {
    "tags": []
   },
   "outputs": [
    {
     "data": {
      "text/plain": [
       "<function xgboost.sklearn.XGBModel.apply(self, X: Any, ntree_limit: int = 0, iteration_range: Optional[Tuple[int, int]] = None) -> numpy.ndarray>"
      ]
     },
     "execution_count": 20,
     "metadata": {},
     "output_type": "execute_result"
    }
   ],
   "source": [
    "# Verify that the model wrapper indeed has the desired attribute\n",
    "CustomModel.get_leaf_indices"
   ]
  },
  {
   "cell_type": "code",
   "execution_count": 21,
   "id": "24eea9d0-22b2-482d-b66d-5bc9c489a044",
   "metadata": {
    "tags": []
   },
   "outputs": [
    {
     "data": {
      "text/html": [
       "<style>#sk-container-id-2 {color: black;background-color: white;}#sk-container-id-2 pre{padding: 0;}#sk-container-id-2 div.sk-toggleable {background-color: white;}#sk-container-id-2 label.sk-toggleable__label {cursor: pointer;display: block;width: 100%;margin-bottom: 0;padding: 0.3em;box-sizing: border-box;text-align: center;}#sk-container-id-2 label.sk-toggleable__label-arrow:before {content: \"▸\";float: left;margin-right: 0.25em;color: #696969;}#sk-container-id-2 label.sk-toggleable__label-arrow:hover:before {color: black;}#sk-container-id-2 div.sk-estimator:hover label.sk-toggleable__label-arrow:before {color: black;}#sk-container-id-2 div.sk-toggleable__content {max-height: 0;max-width: 0;overflow: hidden;text-align: left;background-color: #f0f8ff;}#sk-container-id-2 div.sk-toggleable__content pre {margin: 0.2em;color: black;border-radius: 0.25em;background-color: #f0f8ff;}#sk-container-id-2 input.sk-toggleable__control:checked~div.sk-toggleable__content {max-height: 200px;max-width: 100%;overflow: auto;}#sk-container-id-2 input.sk-toggleable__control:checked~label.sk-toggleable__label-arrow:before {content: \"▾\";}#sk-container-id-2 div.sk-estimator input.sk-toggleable__control:checked~label.sk-toggleable__label {background-color: #d4ebff;}#sk-container-id-2 div.sk-label input.sk-toggleable__control:checked~label.sk-toggleable__label {background-color: #d4ebff;}#sk-container-id-2 input.sk-hidden--visually {border: 0;clip: rect(1px 1px 1px 1px);clip: rect(1px, 1px, 1px, 1px);height: 1px;margin: -1px;overflow: hidden;padding: 0;position: absolute;width: 1px;}#sk-container-id-2 div.sk-estimator {font-family: monospace;background-color: #f0f8ff;border: 1px dotted black;border-radius: 0.25em;box-sizing: border-box;margin-bottom: 0.5em;}#sk-container-id-2 div.sk-estimator:hover {background-color: #d4ebff;}#sk-container-id-2 div.sk-parallel-item::after {content: \"\";width: 100%;border-bottom: 1px solid gray;flex-grow: 1;}#sk-container-id-2 div.sk-label:hover label.sk-toggleable__label {background-color: #d4ebff;}#sk-container-id-2 div.sk-serial::before {content: \"\";position: absolute;border-left: 1px solid gray;box-sizing: border-box;top: 0;bottom: 0;left: 50%;z-index: 0;}#sk-container-id-2 div.sk-serial {display: flex;flex-direction: column;align-items: center;background-color: white;padding-right: 0.2em;padding-left: 0.2em;position: relative;}#sk-container-id-2 div.sk-item {position: relative;z-index: 1;}#sk-container-id-2 div.sk-parallel {display: flex;align-items: stretch;justify-content: center;background-color: white;position: relative;}#sk-container-id-2 div.sk-item::before, #sk-container-id-2 div.sk-parallel-item::before {content: \"\";position: absolute;border-left: 1px solid gray;box-sizing: border-box;top: 0;bottom: 0;left: 50%;z-index: -1;}#sk-container-id-2 div.sk-parallel-item {display: flex;flex-direction: column;z-index: 1;position: relative;background-color: white;}#sk-container-id-2 div.sk-parallel-item:first-child::after {align-self: flex-end;width: 50%;}#sk-container-id-2 div.sk-parallel-item:last-child::after {align-self: flex-start;width: 50%;}#sk-container-id-2 div.sk-parallel-item:only-child::after {width: 0;}#sk-container-id-2 div.sk-dashed-wrapped {border: 1px dashed gray;margin: 0 0.4em 0.5em 0.4em;box-sizing: border-box;padding-bottom: 0.4em;background-color: white;}#sk-container-id-2 div.sk-label label {font-family: monospace;font-weight: bold;display: inline-block;line-height: 1.2em;}#sk-container-id-2 div.sk-label-container {text-align: center;}#sk-container-id-2 div.sk-container {/* jupyter's `normalize.less` sets `[hidden] { display: none; }` but bootstrap.min.css set `[hidden] { display: none !important; }` so we also need the `!important` here to be able to override the default hidden behavior on the sphinx rendered scikit-learn.org. See: https://github.com/scikit-learn/scikit-learn/issues/21755 */display: inline-block !important;position: relative;}#sk-container-id-2 div.sk-text-repr-fallback {display: none;}</style><div id=\"sk-container-id-2\" class=\"sk-top-container\"><div class=\"sk-text-repr-fallback\"><pre>XGBRegressor(base_score=None, booster=None, callbacks=None,\n",
       "             colsample_bylevel=None, colsample_bynode=None,\n",
       "             colsample_bytree=None, early_stopping_rounds=None,\n",
       "             enable_categorical=False, eval_metric=None, feature_types=None,\n",
       "             gamma=None, gpu_id=None, grow_policy=None, importance_type=None,\n",
       "             interaction_constraints=None, learning_rate=None, max_bin=None,\n",
       "             max_cat_threshold=None, max_cat_to_onehot=None,\n",
       "             max_delta_step=None, max_depth=None, max_leaves=None,\n",
       "             min_child_weight=None, missing=nan, monotone_constraints=None,\n",
       "             n_estimators=100, n_jobs=None, num_parallel_tree=None,\n",
       "             predictor=None, random_state=None, ...)</pre><b>In a Jupyter environment, please rerun this cell to show the HTML representation or trust the notebook. <br />On GitHub, the HTML representation is unable to render, please try loading this page with nbviewer.org.</b></div><div class=\"sk-container\" hidden><div class=\"sk-item\"><div class=\"sk-estimator sk-toggleable\"><input class=\"sk-toggleable__control sk-hidden--visually\" id=\"sk-estimator-id-2\" type=\"checkbox\" checked><label for=\"sk-estimator-id-2\" class=\"sk-toggleable__label sk-toggleable__label-arrow\">XGBRegressor</label><div class=\"sk-toggleable__content\"><pre>XGBRegressor(base_score=None, booster=None, callbacks=None,\n",
       "             colsample_bylevel=None, colsample_bynode=None,\n",
       "             colsample_bytree=None, early_stopping_rounds=None,\n",
       "             enable_categorical=False, eval_metric=None, feature_types=None,\n",
       "             gamma=None, gpu_id=None, grow_policy=None, importance_type=None,\n",
       "             interaction_constraints=None, learning_rate=None, max_bin=None,\n",
       "             max_cat_threshold=None, max_cat_to_onehot=None,\n",
       "             max_delta_step=None, max_depth=None, max_leaves=None,\n",
       "             min_child_weight=None, missing=nan, monotone_constraints=None,\n",
       "             n_estimators=100, n_jobs=None, num_parallel_tree=None,\n",
       "             predictor=None, random_state=None, ...)</pre></div></div></div></div></div>"
      ],
      "text/plain": [
       "XGBRegressor(base_score=None, booster=None, callbacks=None,\n",
       "             colsample_bylevel=None, colsample_bynode=None,\n",
       "             colsample_bytree=None, early_stopping_rounds=None,\n",
       "             enable_categorical=False, eval_metric=None, feature_types=None,\n",
       "             gamma=None, gpu_id=None, grow_policy=None, importance_type=None,\n",
       "             interaction_constraints=None, learning_rate=None, max_bin=None,\n",
       "             max_cat_threshold=None, max_cat_to_onehot=None,\n",
       "             max_delta_step=None, max_depth=None, max_leaves=None,\n",
       "             min_child_weight=None, missing=nan, monotone_constraints=None,\n",
       "             n_estimators=100, n_jobs=None, num_parallel_tree=None,\n",
       "             predictor=None, random_state=None, ...)"
      ]
     },
     "execution_count": 21,
     "metadata": {},
     "output_type": "execute_result"
    }
   ],
   "source": [
    "model = CustomModel()\n",
    "model.fit(\n",
    "    X_train,\n",
    "    y_train,\n",
    ")"
   ]
  },
  {
   "cell_type": "code",
   "execution_count": 22,
   "id": "9fc92d17-e936-4b7d-a8a1-a974975ebf87",
   "metadata": {
    "tags": []
   },
   "outputs": [],
   "source": [
    "leafsim_instance = LeafSim(model)"
   ]
  },
  {
   "cell_type": "code",
   "execution_count": 23,
   "id": "4d3ee33b-a521-4a65-9b16-e90daafc2861",
   "metadata": {
    "tags": []
   },
   "outputs": [],
   "source": [
    "top_n_ids, top_n_similarities = leafsim_instance.generate_explanations(\n",
    "    X_train[feature_cols], X_test[feature_cols]\n",
    ")"
   ]
  },
  {
   "cell_type": "markdown",
   "id": "48a63e65-0dfb-43b6-a652-713fceaf10aa",
   "metadata": {},
   "source": [
    "..."
   ]
  },
  {
   "cell_type": "markdown",
   "id": "27deb81d-c445-484a-a1ba-4feaaddf9e12",
   "metadata": {},
   "source": [
    "# Further resources\n",
    "\n",
    "For a more comprehensive usage example, please refer to this blog post [https://datascience.ch/leafsim/](https://datascience.ch/leafsim/) and the corresponding [notebook](https://renkulab.io/projects/lucas.chizzali/leafsim/files/blob/notebooks/LeafSim.ipynb)."
   ]
  },
  {
   "cell_type": "code",
   "execution_count": null,
   "id": "fc231c71-dee2-4d8a-be8c-a2f700be713a",
   "metadata": {},
   "outputs": [],
   "source": []
  }
 ],
 "metadata": {
  "kernelspec": {
   "display_name": "datascience",
   "language": "python",
   "name": "datascience"
  },
  "language_info": {
   "codemirror_mode": {
    "name": "ipython",
    "version": 3
   },
   "file_extension": ".py",
   "mimetype": "text/x-python",
   "name": "python",
   "nbconvert_exporter": "python",
   "pygments_lexer": "ipython3",
   "version": "3.11.7"
  }
 },
 "nbformat": 4,
 "nbformat_minor": 5
}
