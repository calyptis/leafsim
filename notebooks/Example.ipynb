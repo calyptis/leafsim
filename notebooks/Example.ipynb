{
 "cells": [
  {
   "cell_type": "markdown",
   "id": "17a7a87c-f9da-4a94-b617-a666c77b1acf",
   "metadata": {},
   "source": [
    "# Environment"
   ]
  },
  {
   "cell_type": "code",
   "execution_count": null,
   "id": "c44edfa7-8645-4b7f-ba0c-ec1e4e160110",
   "metadata": {},
   "outputs": [],
   "source": [
    "# LeafSim\n",
    "from leafsim import LeafSim, SUPPORTED_MODELS\n",
    "\n",
    "# Helper function for the toy example\n",
    "from utils import apply_formatting\n",
    "\n",
    "# Models currently supported by LeafSim\n",
    "# from catboost import CatBoostClassifier\n",
    "from sklearn.ensemble import RandomForestClassifier\n",
    "\n",
    "# Dataset used in the example\n",
    "from sklearn.datasets import load_iris\n",
    "\n",
    "# To perform train - test splits\n",
    "from sklearn.model_selection import train_test_split\n",
    "\n",
    "# Useful libraries\n",
    "import numpy as np\n",
    "import pandas as pd\n",
    "\n",
    "# Useful function\n",
    "from IPython.display import display"
   ]
  },
  {
   "cell_type": "code",
   "execution_count": null,
   "id": "631e5d22-a523-441d-97ad-bd6b05685d36",
   "metadata": {},
   "outputs": [],
   "source": [
    "# Make the example reproducible\n",
    "np.random.seed(42)"
   ]
  },
  {
   "cell_type": "markdown",
   "id": "2244797a-6844-4a85-b4ca-f63186fc41b2",
   "metadata": {},
   "source": [
    "# Data"
   ]
  },
  {
   "cell_type": "code",
   "execution_count": null,
   "id": "13721e6c-ce79-4a3a-ae01-213ffe2bcead",
   "metadata": {},
   "outputs": [],
   "source": [
    "data = load_iris(as_frame=True)"
   ]
  },
  {
   "cell_type": "code",
   "execution_count": null,
   "id": "6515fed0-7b4a-402b-9d92-6174bb783c2e",
   "metadata": {},
   "outputs": [],
   "source": [
    "# Features as pandas dataframe\n",
    "X = data[\"data\"]\n",
    "# Target as pandas series\n",
    "y = data[\"target\"]\n",
    "\n",
    "# Names of feature columns\n",
    "feature_cols = data[\"feature_names\"]\n",
    "# Name of target column\n",
    "target_col = y.name\n",
    "# Name of prediction column\n",
    "predicted_col = \"Predicted\" + target_col"
   ]
  },
  {
   "cell_type": "code",
   "execution_count": null,
   "id": "54be6eb0-ca33-4990-9ba0-7bb359fd8964",
   "metadata": {},
   "outputs": [],
   "source": [
    "# Split into train and test data\n",
    "X_train, X_test, y_train, y_test = train_test_split(\n",
    "    X, y, test_size=0.2, random_state=46\n",
    ")"
   ]
  },
  {
   "cell_type": "code",
   "execution_count": null,
   "id": "3fcd1025-fb44-48f0-849b-ad8473fda5ef",
   "metadata": {},
   "outputs": [],
   "source": [
    "X_train.shape[0], X_test.shape[0]"
   ]
  },
  {
   "cell_type": "markdown",
   "id": "54802646-0a19-4765-beb0-7dfe62aca268",
   "metadata": {},
   "source": [
    "# Model"
   ]
  },
  {
   "cell_type": "code",
   "execution_count": null,
   "id": "eb9a0981-2818-4158-8f8f-09b2df5b4a4a",
   "metadata": {
    "tags": []
   },
   "outputs": [],
   "source": [
    "# Currently supported models\n",
    "# For your own custom model\n",
    "# see end of notebook for an example\n",
    "SUPPORTED_MODELS"
   ]
  },
  {
   "cell_type": "code",
   "execution_count": null,
   "id": "42d24f5b-c212-4e48-bbab-0e136974ffd0",
   "metadata": {},
   "outputs": [],
   "source": [
    "# Train model\n",
    "model = RandomForestClassifier(\n",
    "    random_state=46, n_jobs=-1, n_estimators=50, min_samples_leaf=4\n",
    ")\n",
    "model.fit(\n",
    "    X_train,\n",
    "    y_train,\n",
    ")"
   ]
  },
  {
   "cell_type": "code",
   "execution_count": null,
   "id": "a0c89351-70b9-4251-8e6b-e503a671fe06",
   "metadata": {},
   "outputs": [],
   "source": [
    "# Store as series (just like y_train and y_test)\n",
    "y_hat_train = pd.Series(model.predict(X_train))\n",
    "y_hat_test = pd.Series(model.predict(X_test))"
   ]
  },
  {
   "cell_type": "markdown",
   "id": "b09af6ba-b95d-48e1-b2d5-44d3e2e4c602",
   "metadata": {},
   "source": [
    "# Apply LeafSim"
   ]
  },
  {
   "cell_type": "code",
   "execution_count": null,
   "id": "5c86dbb8-daca-4e80-a6ef-81eb28261c0f",
   "metadata": {},
   "outputs": [],
   "source": [
    "leafsim_instance = LeafSim(model)"
   ]
  },
  {
   "cell_type": "code",
   "execution_count": null,
   "id": "05442402-b81c-4a32-a909-51397c53dea3",
   "metadata": {},
   "outputs": [],
   "source": [
    "top_n_ids, top_n_similarities = leafsim_instance.generate_explanations(\n",
    "    X_train[feature_cols], X_test[feature_cols]\n",
    ")"
   ]
  },
  {
   "cell_type": "code",
   "execution_count": null,
   "id": "1b616f9f-821c-49ad-a948-daa6f32f73cb",
   "metadata": {},
   "outputs": [],
   "source": [
    "# One row for each observation in the test set\n",
    "# By default, finding top 10 most similar observation\n",
    "# in the training set\n",
    "top_n_ids.shape"
   ]
  },
  {
   "cell_type": "code",
   "execution_count": null,
   "id": "b526fe9a-2594-4cc9-af40-a34d11850eca",
   "metadata": {
    "tags": []
   },
   "outputs": [],
   "source": [
    "# One row for each observation in the test set\n",
    "# By default, the similarity scores of the top 10\n",
    "# most similar observations\n",
    "top_n_similarities.shape"
   ]
  },
  {
   "cell_type": "markdown",
   "id": "961dc0e7-f1aa-4388-a25b-03dcda317365",
   "metadata": {},
   "source": [
    "## Example where model performs poorly"
   ]
  },
  {
   "cell_type": "code",
   "execution_count": null,
   "id": "fe8cae03-f98a-4733-a1d0-c333af6c16b6",
   "metadata": {},
   "outputs": [],
   "source": [
    "def showcase(idx_to_explain: int):\n",
    "    \"\"\"\n",
    "    :param idx_to_explain:\n",
    "        Integer location of row in test feature dataframe and target series\n",
    "    \"\"\"\n",
    "    # Let's explain the prediction of this test observation\n",
    "    test_example = X_test.iloc[idx_to_explain].to_frame().T\n",
    "    # Adding the target information\n",
    "    test_example[predicted_col] = y_hat_test.iloc[idx_to_explain]\n",
    "    test_example[target_col] = y_test.iloc[idx_to_explain]\n",
    "    # Showcasing the observation\n",
    "    display(test_example)\n",
    "\n",
    "    # Show the main observations the model relies on\n",
    "    # when prediction our examples\n",
    "    top_n_explanations = top_n_ids[idx_to_explain]\n",
    "\n",
    "    similar_obs_example = X_train.iloc[top_n_explanations].copy()\n",
    "    similar_obs_example[f\"{predicted_col}\"] = y_hat_train.iloc[\n",
    "        top_n_explanations\n",
    "    ].values\n",
    "    similar_obs_example[f\"{target_col}\"] = y_train.iloc[top_n_explanations]\n",
    "    similar_obs_example[\"similarity\"] = top_n_similarities[idx_to_explain]\n",
    "\n",
    "    formatting = {\n",
    "        c: lambda x: f\"{x:,.1f}\"\n",
    "        for c in similar_obs_example.columns\n",
    "    }\n",
    "    display(\n",
    "        apply_formatting(\n",
    "            test_example,\n",
    "            similar_obs_example.drop(columns=[predicted_col]),\n",
    "            formatting\n",
    "        )\n",
    "    )"
   ]
  },
  {
   "cell_type": "code",
   "execution_count": null,
   "id": "f80c4f79-3a5c-43d5-a70f-b1eeec5332ae",
   "metadata": {},
   "outputs": [],
   "source": [
    "# Class for which the model performs poorly\n",
    "idx_to_explain = np.argmax(y_test != y_hat_test.values)\n",
    "showcase(idx_to_explain)"
   ]
  },
  {
   "cell_type": "markdown",
   "id": "5bd76bfe-d677-422f-bcd5-328c4929112e",
   "metadata": {},
   "source": [
    "## Example where model performs well"
   ]
  },
  {
   "cell_type": "code",
   "execution_count": null,
   "id": "f19e8009-d379-4a3d-bb5a-dfda99ee8e93",
   "metadata": {},
   "outputs": [],
   "source": [
    "# Class for which the model performs well\n",
    "idx_to_explain = np.argmax(y_test == y_hat_test.values)\n",
    "showcase(idx_to_explain)"
   ]
  },
  {
   "cell_type": "markdown",
   "id": "e100b419-6a87-4ccd-8455-3cfea0c79d44",
   "metadata": {},
   "source": [
    "## Custom model\n",
    "\n",
    "Currently, LeafSim is not by default supporting XGBoost. To use it and any other ensemble model, one can modify the initialising of the LeafSim instance:"
   ]
  },
  {
   "cell_type": "code",
   "execution_count": null,
   "id": "80a198ca-010e-4c89-bbab-1b011747d286",
   "metadata": {
    "tags": []
   },
   "outputs": [],
   "source": [
    "from xgboost import XGBRegressor"
   ]
  },
  {
   "cell_type": "code",
   "execution_count": null,
   "id": "8c90fe66-267c-4836-a2b4-0c67fd63c614",
   "metadata": {
    "tags": []
   },
   "outputs": [],
   "source": [
    "# Create a model wrapper instance\n",
    "# The custom model really can be any type of instance\n",
    "# that makes sense for LeafSim\n",
    "# All that it requires is for it to have two attributes:\n",
    "#   - get_leaf_indices (see next cell)\n",
    "CustomModel = XGBRegressor"
   ]
  },
  {
   "cell_type": "code",
   "execution_count": null,
   "id": "d168eb9d-b8bc-47dc-b2cd-cfd17f0b2d73",
   "metadata": {
    "tags": []
   },
   "outputs": [],
   "source": [
    "# Set the attribute \"get_leaf_indices\" that every custom model\n",
    "# to be passed to LeafSim needs to have.\n",
    "# This function takes in X (n_data, n_features)\n",
    "# and provides a matrix of (n_data, n_predictions)\n",
    "# where predictors are the individual predictors in the ensemble (trees)\n",
    "# and the values are the leaves.\n",
    "setattr(CustomModel, 'get_leaf_indices', XGBRegressor.apply)"
   ]
  },
  {
   "cell_type": "code",
   "execution_count": null,
   "id": "ffaad29b-b4a1-4e56-9481-8af1d3ea4402",
   "metadata": {
    "tags": []
   },
   "outputs": [],
   "source": [
    "# Verify that the model wrapper indeed has the desired attribute\n",
    "CustomModel.get_leaf_indices"
   ]
  },
  {
   "cell_type": "code",
   "execution_count": null,
   "id": "24eea9d0-22b2-482d-b66d-5bc9c489a044",
   "metadata": {
    "tags": []
   },
   "outputs": [],
   "source": [
    "model = XGBRegressor()\n",
    "model.fit(\n",
    "    X_train,\n",
    "    y_train,\n",
    ")"
   ]
  },
  {
   "cell_type": "code",
   "execution_count": null,
   "id": "9fc92d17-e936-4b7d-a8a1-a974975ebf87",
   "metadata": {
    "tags": []
   },
   "outputs": [],
   "source": [
    "leafsim_instance = CustomModel(model)"
   ]
  },
  {
   "cell_type": "code",
   "execution_count": null,
   "id": "4d3ee33b-a521-4a65-9b16-e90daafc2861",
   "metadata": {
    "tags": []
   },
   "outputs": [],
   "source": [
    "top_n_ids, top_n_similarities = leafsim_instance.generate_explanations(\n",
    "    X_train[feature_cols], X_test[feature_cols]\n",
    ")"
   ]
  },
  {
   "cell_type": "markdown",
   "id": "48a63e65-0dfb-43b6-a652-713fceaf10aa",
   "metadata": {},
   "source": [
    "..."
   ]
  },
  {
   "cell_type": "markdown",
   "id": "27deb81d-c445-484a-a1ba-4feaaddf9e12",
   "metadata": {},
   "source": [
    "# Further resources\n",
    "\n",
    "For a more comprehensive usage example, please refer to this blog post [https://datascience.ch/leafsim/](https://datascience.ch/leafsim/) and the corresponding [notebook](https://renkulab.io/projects/lucas.chizzali/leafsim/files/blob/notebooks/LeafSim.ipynb)."
   ]
  }
 ],
 "metadata": {
  "kernelspec": {
   "display_name": "Python [conda env:datascience]",
   "language": "python",
   "name": "conda-env-datascience-py"
  },
  "language_info": {
   "codemirror_mode": {
    "name": "ipython",
    "version": 3
   },
   "file_extension": ".py",
   "mimetype": "text/x-python",
   "name": "python",
   "nbconvert_exporter": "python",
   "pygments_lexer": "ipython3",
   "version": "3.10.0"
  }
 },
 "nbformat": 4,
 "nbformat_minor": 5
}
